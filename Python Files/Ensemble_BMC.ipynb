{
 "cells": [
  {
   "cell_type": "code",
   "execution_count": 1,
   "metadata": {},
   "outputs": [],
   "source": [
    "import numpy as np\n",
    "import pandas as pd\n",
    "from sklearn.metrics import mean_absolute_error, mean_squared_error\n",
    "from math import sqrt\n",
    "import matplotlib.pyplot as plt\n",
    "from scipy.stats import norm"
   ]
  },
  {
   "cell_type": "code",
   "execution_count": 2,
   "metadata": {},
   "outputs": [],
   "source": [
    "LightGBM_results = pd.read_excel('LightGBM_results.xlsx')\n",
    "LSTM_results = pd.read_excel('LSTM_results.xlsx')\n",
    "Prophet_results = pd.read_excel('Prophet_results.xlsx')\n",
    "SARIMA_results = pd.read_excel('SARIMA_results.xlsx')\n",
    "XGBoost_results = pd.read_excel('XGBoost_results.xlsx')"
   ]
  },
  {
   "cell_type": "code",
   "execution_count": 3,
   "metadata": {},
   "outputs": [],
   "source": [
    "LSTM_results.rename(columns={'Predicted':'predicted', 'Actual':'actual'}, inplace=True)\n",
    "Prophet_results.rename(columns={'predicted_sales':'predicted', 'actual_sales':'actual'}, inplace=True)"
   ]
  },
  {
   "cell_type": "code",
   "execution_count": 4,
   "metadata": {},
   "outputs": [],
   "source": [
    "lightgbm_forecasts = LightGBM_results[['predicted','actual']]\n",
    "xgboost_forecasts = XGBoost_results[['predicted','actual']]\n",
    "sarima_forecasts = SARIMA_results[['predicted','actual']]\n",
    "prophet_forecasts = Prophet_results[['predicted','actual']]\n",
    "LSTM_forecasts = LSTM_results[['predicted','actual']]"
   ]
  },
  {
   "cell_type": "code",
   "execution_count": 8,
   "metadata": {},
   "outputs": [],
   "source": [
    "def RMSE(predictions, targets):\n",
    "    return np.sqrt(((predictions - targets) ** 2).mean())\n",
    "\n",
    "def MAE(predictions, targets):\n",
    "    return np.abs(predictions - targets).mean()"
   ]
  },
  {
   "cell_type": "code",
   "execution_count": 10,
   "metadata": {},
   "outputs": [],
   "source": [
    "true_values = lightgbm_forecasts['actual']"
   ]
  },
  {
   "cell_type": "code",
   "execution_count": 11,
   "metadata": {},
   "outputs": [],
   "source": [
    "predicted_values = {\n",
    "    'LightGBM': lightgbm_forecasts['predicted'].values,\n",
    "    'LSTM': LSTM_forecasts['predicted'].values,\n",
    "    'Prophet': prophet_forecasts['predicted'].values,\n",
    "    'SARIMA': sarima_forecasts['predicted'].values,\n",
    "    'XGBoost': xgboost_forecasts['predicted'].values\n",
    "}"
   ]
  },
  {
   "cell_type": "code",
   "execution_count": 13,
   "metadata": {},
   "outputs": [],
   "source": [
    "best_rmse = float('inf')\n",
    "best_mae = float('inf')\n",
    "best_weights_rmse = {}\n",
    "best_weights_mae = {}\n",
    "best_preds_rmse = None\n",
    "best_preds_mae = None\n",
    "\n",
    "for weight1 in np.arange(0, 1.1, 0.2):\n",
    "    for weight2 in np.arange(0, 1.1 - weight1, 0.2):\n",
    "        for weight3 in np.arange(0, 1.1 - weight1 - weight2, 0.2):\n",
    "            for weight4 in np.arange(0, 1.1 - weight1 - weight2 - weight3, 0.2):\n",
    "                weight5 = 1.0 - weight1 - weight2 - weight3 - weight4\n",
    "                combined_prediction = (weight1 * predicted_values['LightGBM'] + \n",
    "                                       weight2 * predicted_values['LSTM'] +\n",
    "                                       weight3 * predicted_values['Prophet'] +\n",
    "                                       weight4 * predicted_values['SARIMA'] +\n",
    "                                       weight5 * predicted_values['XGBoost'])\n",
    "        \n",
    "                rmse = RMSE(combined_prediction, true_values)\n",
    "                mae = MAE(combined_prediction, true_values)\n",
    "        \n",
    "                if rmse < best_rmse:\n",
    "                    best_rmse = rmse\n",
    "                    best_weights_rmse = {\n",
    "                        'LightGBM': weight1,\n",
    "                        'LSTM': weight2,\n",
    "                        'Prophet': weight3,\n",
    "                        'SARIMA': weight4,\n",
    "                        'XGBoost': weight5\n",
    "                    }\n",
    "                    best_preds_rmse = combined_prediction\n",
    "                \n",
    "                if mae < best_mae:\n",
    "                    best_mae = mae\n",
    "                    best_weights_mae = {\n",
    "                        'LightGBM': weight1,\n",
    "                        'LSTM': weight2,\n",
    "                        'Prophet': weight3,\n",
    "                        'SARIMA': weight4,\n",
    "                        'XGBoost': weight5\n",
    "                    }\n",
    "                    best_preds_mae = combined_prediction\n",
    "\n",
    "\n",
    "best_results_rmse = pd.DataFrame({\n",
    "    'Actual': true_values,\n",
    "    'Predicted (Best RMSE)': best_preds_rmse\n",
    "})\n",
    "\n",
    "best_results_mae = pd.DataFrame({\n",
    "    'Actual': true_values,\n",
    "    'Predicted (Best MAE)': best_preds_mae\n",
    "})\n"
   ]
  },
  {
   "cell_type": "code",
   "execution_count": 14,
   "metadata": {},
   "outputs": [],
   "source": [
    "best_results_rmse['date'] = LightGBM_results['date']\n",
    "best_results_rmse['item_id'] = LightGBM_results['item_id']"
   ]
  },
  {
   "cell_type": "code",
   "execution_count": 15,
   "metadata": {},
   "outputs": [
    {
     "data": {
      "text/html": [
       "<div>\n",
       "<style scoped>\n",
       "    .dataframe tbody tr th:only-of-type {\n",
       "        vertical-align: middle;\n",
       "    }\n",
       "\n",
       "    .dataframe tbody tr th {\n",
       "        vertical-align: top;\n",
       "    }\n",
       "\n",
       "    .dataframe thead th {\n",
       "        text-align: right;\n",
       "    }\n",
       "</style>\n",
       "<table border=\"1\" class=\"dataframe\">\n",
       "  <thead>\n",
       "    <tr style=\"text-align: right;\">\n",
       "      <th></th>\n",
       "      <th>Actual</th>\n",
       "      <th>Predicted (Best RMSE)</th>\n",
       "      <th>date</th>\n",
       "      <th>item_id</th>\n",
       "    </tr>\n",
       "  </thead>\n",
       "  <tbody>\n",
       "    <tr>\n",
       "      <th>0</th>\n",
       "      <td>40</td>\n",
       "      <td>44.727045</td>\n",
       "      <td>2015-10-28</td>\n",
       "      <td>0</td>\n",
       "    </tr>\n",
       "    <tr>\n",
       "      <th>1</th>\n",
       "      <td>58</td>\n",
       "      <td>46.330231</td>\n",
       "      <td>2015-10-29</td>\n",
       "      <td>0</td>\n",
       "    </tr>\n",
       "    <tr>\n",
       "      <th>2</th>\n",
       "      <td>77</td>\n",
       "      <td>69.167734</td>\n",
       "      <td>2015-10-30</td>\n",
       "      <td>0</td>\n",
       "    </tr>\n",
       "    <tr>\n",
       "      <th>3</th>\n",
       "      <td>101</td>\n",
       "      <td>80.311901</td>\n",
       "      <td>2015-10-31</td>\n",
       "      <td>0</td>\n",
       "    </tr>\n",
       "    <tr>\n",
       "      <th>4</th>\n",
       "      <td>58</td>\n",
       "      <td>56.769117</td>\n",
       "      <td>2015-11-01</td>\n",
       "      <td>0</td>\n",
       "    </tr>\n",
       "    <tr>\n",
       "      <th>...</th>\n",
       "      <td>...</td>\n",
       "      <td>...</td>\n",
       "      <td>...</td>\n",
       "      <td>...</td>\n",
       "    </tr>\n",
       "    <tr>\n",
       "      <th>53995</th>\n",
       "      <td>2</td>\n",
       "      <td>11.297910</td>\n",
       "      <td>2016-04-20</td>\n",
       "      <td>299</td>\n",
       "    </tr>\n",
       "    <tr>\n",
       "      <th>53996</th>\n",
       "      <td>2</td>\n",
       "      <td>12.385193</td>\n",
       "      <td>2016-04-21</td>\n",
       "      <td>299</td>\n",
       "    </tr>\n",
       "    <tr>\n",
       "      <th>53997</th>\n",
       "      <td>1</td>\n",
       "      <td>14.123359</td>\n",
       "      <td>2016-04-22</td>\n",
       "      <td>299</td>\n",
       "    </tr>\n",
       "    <tr>\n",
       "      <th>53998</th>\n",
       "      <td>7</td>\n",
       "      <td>15.441299</td>\n",
       "      <td>2016-04-23</td>\n",
       "      <td>299</td>\n",
       "    </tr>\n",
       "    <tr>\n",
       "      <th>53999</th>\n",
       "      <td>5</td>\n",
       "      <td>14.294943</td>\n",
       "      <td>2016-04-24</td>\n",
       "      <td>299</td>\n",
       "    </tr>\n",
       "  </tbody>\n",
       "</table>\n",
       "<p>54000 rows × 4 columns</p>\n",
       "</div>"
      ],
      "text/plain": [
       "       Actual  Predicted (Best RMSE)       date  item_id\n",
       "0          40              44.727045 2015-10-28        0\n",
       "1          58              46.330231 2015-10-29        0\n",
       "2          77              69.167734 2015-10-30        0\n",
       "3         101              80.311901 2015-10-31        0\n",
       "4          58              56.769117 2015-11-01        0\n",
       "...       ...                    ...        ...      ...\n",
       "53995       2              11.297910 2016-04-20      299\n",
       "53996       2              12.385193 2016-04-21      299\n",
       "53997       1              14.123359 2016-04-22      299\n",
       "53998       7              15.441299 2016-04-23      299\n",
       "53999       5              14.294943 2016-04-24      299\n",
       "\n",
       "[54000 rows x 4 columns]"
      ]
     },
     "execution_count": 15,
     "metadata": {},
     "output_type": "execute_result"
    }
   ],
   "source": [
    "best_results_rmse"
   ]
  },
  {
   "cell_type": "code",
   "execution_count": 17,
   "metadata": {},
   "outputs": [],
   "source": [
    "LightGBM_results_28 = pd.read_excel('LightGBM_results_28.xlsx')\n",
    "LSTM_results_28 = pd.read_excel('LSTM_results_28.xlsx')\n",
    "Prophet_results_28 = pd.read_excel('Prophet_results_28.xlsx')\n",
    "SARIMA_results_28 = pd.read_excel('SARIMA_results_28.xlsx')\n",
    "XGBoost_results_28 = pd.read_excel('XGBoost_results_28.xlsx')"
   ]
  },
  {
   "cell_type": "code",
   "execution_count": 18,
   "metadata": {},
   "outputs": [],
   "source": [
    "LightGBM_predicted = LightGBM_results_28['predicted_sales']\n",
    "LSTM_predicted = LSTM_results_28['Predicted']\n",
    "SARIMA_predicted = SARIMA_results_28['predicted']\n",
    "XGBoost_predicted = XGBoost_results_28['predicted']\n",
    "Prophet_predicted = Prophet_results_28['yhat']"
   ]
  },
  {
   "cell_type": "code",
   "execution_count": 19,
   "metadata": {},
   "outputs": [],
   "source": [
    "new_predicted_values = {\n",
    "    'LightGBM': LightGBM_predicted,  \n",
    "    'LSTM': LSTM_predicted,    \n",
    "    'Prophet': Prophet_predicted, \n",
    "    'SARIMA': SARIMA_predicted, \n",
    "    'XGBoost': XGBoost_predicted  \n",
    "}\n",
    "\n",
    "ensemble_predictions_rmse = (best_weights_rmse['LightGBM'] * new_predicted_values['LightGBM'] +\n",
    "                            best_weights_rmse['LSTM'] * new_predicted_values['LSTM'] +\n",
    "                            best_weights_rmse['Prophet'] * new_predicted_values['Prophet'] +\n",
    "                            best_weights_rmse['SARIMA'] * new_predicted_values['SARIMA'] +\n",
    "                            best_weights_rmse['XGBoost'] * new_predicted_values['XGBoost'])\n",
    "\n",
    "ensemble_predictions_mae = (best_weights_mae['LightGBM'] * new_predicted_values['LightGBM'] +\n",
    "                            best_weights_mae['LSTM'] * new_predicted_values['LSTM'] +\n",
    "                            best_weights_mae['Prophet'] * new_predicted_values['Prophet'] +\n",
    "                            best_weights_mae['SARIMA'] * new_predicted_values['SARIMA'] +\n",
    "                            best_weights_mae['XGBoost'] * new_predicted_values['XGBoost'])\n"
   ]
  },
  {
   "cell_type": "code",
   "execution_count": 26,
   "metadata": {},
   "outputs": [],
   "source": [
    "results_df = pd.DataFrame({\n",
    "    'date': LightGBM_results_28['date'],\n",
    "    'Product_ID': LightGBM_results_28['item_id'],\n",
    "    'predicted': ensemble_predictions_rmse,\n",
    "    'actual': LightGBM_results_28['actual']\n",
    "})"
   ]
  },
  {
   "cell_type": "code",
   "execution_count": 27,
   "metadata": {},
   "outputs": [],
   "source": [
    "results_df_28 = results_df.dropna(subset=['date','predicted'])"
   ]
  },
  {
   "cell_type": "code",
   "execution_count": 28,
   "metadata": {},
   "outputs": [
    {
     "data": {
      "text/html": [
       "<div>\n",
       "<style scoped>\n",
       "    .dataframe tbody tr th:only-of-type {\n",
       "        vertical-align: middle;\n",
       "    }\n",
       "\n",
       "    .dataframe tbody tr th {\n",
       "        vertical-align: top;\n",
       "    }\n",
       "\n",
       "    .dataframe thead th {\n",
       "        text-align: right;\n",
       "    }\n",
       "</style>\n",
       "<table border=\"1\" class=\"dataframe\">\n",
       "  <thead>\n",
       "    <tr style=\"text-align: right;\">\n",
       "      <th></th>\n",
       "      <th>date</th>\n",
       "      <th>Product_ID</th>\n",
       "      <th>predicted</th>\n",
       "      <th>actual</th>\n",
       "    </tr>\n",
       "  </thead>\n",
       "  <tbody>\n",
       "    <tr>\n",
       "      <th>0</th>\n",
       "      <td>2016-04-25</td>\n",
       "      <td>0</td>\n",
       "      <td>33.862493</td>\n",
       "      <td>48</td>\n",
       "    </tr>\n",
       "    <tr>\n",
       "      <th>1</th>\n",
       "      <td>2016-04-26</td>\n",
       "      <td>0</td>\n",
       "      <td>30.966535</td>\n",
       "      <td>35</td>\n",
       "    </tr>\n",
       "    <tr>\n",
       "      <th>2</th>\n",
       "      <td>2016-04-27</td>\n",
       "      <td>0</td>\n",
       "      <td>31.144880</td>\n",
       "      <td>34</td>\n",
       "    </tr>\n",
       "    <tr>\n",
       "      <th>3</th>\n",
       "      <td>2016-04-28</td>\n",
       "      <td>0</td>\n",
       "      <td>34.293438</td>\n",
       "      <td>67</td>\n",
       "    </tr>\n",
       "    <tr>\n",
       "      <th>4</th>\n",
       "      <td>2016-04-29</td>\n",
       "      <td>0</td>\n",
       "      <td>51.026691</td>\n",
       "      <td>63</td>\n",
       "    </tr>\n",
       "    <tr>\n",
       "      <th>...</th>\n",
       "      <td>...</td>\n",
       "      <td>...</td>\n",
       "      <td>...</td>\n",
       "      <td>...</td>\n",
       "    </tr>\n",
       "    <tr>\n",
       "      <th>8395</th>\n",
       "      <td>2016-05-18</td>\n",
       "      <td>299</td>\n",
       "      <td>10.816974</td>\n",
       "      <td>0</td>\n",
       "    </tr>\n",
       "    <tr>\n",
       "      <th>8396</th>\n",
       "      <td>2016-05-19</td>\n",
       "      <td>299</td>\n",
       "      <td>11.904257</td>\n",
       "      <td>5</td>\n",
       "    </tr>\n",
       "    <tr>\n",
       "      <th>8397</th>\n",
       "      <td>2016-05-20</td>\n",
       "      <td>299</td>\n",
       "      <td>13.491143</td>\n",
       "      <td>9</td>\n",
       "    </tr>\n",
       "    <tr>\n",
       "      <th>8398</th>\n",
       "      <td>2016-05-21</td>\n",
       "      <td>299</td>\n",
       "      <td>14.750475</td>\n",
       "      <td>5</td>\n",
       "    </tr>\n",
       "    <tr>\n",
       "      <th>8399</th>\n",
       "      <td>2016-05-22</td>\n",
       "      <td>299</td>\n",
       "      <td>13.765626</td>\n",
       "      <td>5</td>\n",
       "    </tr>\n",
       "  </tbody>\n",
       "</table>\n",
       "<p>8361 rows × 4 columns</p>\n",
       "</div>"
      ],
      "text/plain": [
       "           date  Product_ID  predicted  actual\n",
       "0    2016-04-25           0  33.862493      48\n",
       "1    2016-04-26           0  30.966535      35\n",
       "2    2016-04-27           0  31.144880      34\n",
       "3    2016-04-28           0  34.293438      67\n",
       "4    2016-04-29           0  51.026691      63\n",
       "...         ...         ...        ...     ...\n",
       "8395 2016-05-18         299  10.816974       0\n",
       "8396 2016-05-19         299  11.904257       5\n",
       "8397 2016-05-20         299  13.491143       9\n",
       "8398 2016-05-21         299  14.750475       5\n",
       "8399 2016-05-22         299  13.765626       5\n",
       "\n",
       "[8361 rows x 4 columns]"
      ]
     },
     "execution_count": 28,
     "metadata": {},
     "output_type": "execute_result"
    }
   ],
   "source": [
    "results_df_28"
   ]
  },
  {
   "cell_type": "code",
   "execution_count": 149,
   "metadata": {},
   "outputs": [
    {
     "data": {
      "text/plain": [
       "0"
      ]
     },
     "execution_count": 149,
     "metadata": {},
     "output_type": "execute_result"
    }
   ],
   "source": [
    "results_df_28['predicted'].isnull().sum()"
   ]
  },
  {
   "cell_type": "code",
   "execution_count": 22,
   "metadata": {},
   "outputs": [
    {
     "name": "stdout",
     "output_type": "stream",
     "text": [
      "Mean Absolute Error: 4.043427163317396\n",
      "Root Mean Squared Error: 6.31377217545766\n"
     ]
    }
   ],
   "source": [
    "mae = mean_absolute_error(results_df_28['actual'], results_df_28['predicted'])\n",
    "print('Mean Absolute Error:', mae)\n",
    "\n",
    "mse = mean_squared_error(results_df_28['actual'], results_df_28['predicted'])\n",
    "\n",
    "mse = mean_squared_error(results_df_28['actual'], results_df_28['predicted'])\n",
    "rmse = sqrt(mse)\n",
    "print('Root Mean Squared Error:', rmse)"
   ]
  },
  {
   "cell_type": "code",
   "execution_count": 23,
   "metadata": {},
   "outputs": [
    {
     "name": "stdout",
     "output_type": "stream",
     "text": [
      "Mean Absolute Error: 4.168920323087525\n",
      "Root Mean Squared Error: 7.094890974207822\n"
     ]
    }
   ],
   "source": [
    "\n",
    "mae = mean_absolute_error(best_results_rmse['Actual'], best_results_rmse['Predicted (Best RMSE)'])\n",
    "print('Mean Absolute Error:', mae)\n",
    "\n",
    "mse = mean_squared_error(best_results_rmse['Actual'], best_results_rmse['Predicted (Best RMSE)'])\n",
    "\n",
    "mse = mean_squared_error(best_results_rmse['Actual'], best_results_rmse['Predicted (Best RMSE)'])\n",
    "rmse = sqrt(mse)\n",
    "print('Root Mean Squared Error:', rmse)"
   ]
  },
  {
   "cell_type": "code",
   "execution_count": 25,
   "metadata": {},
   "outputs": [],
   "source": [
    "results_df_28.to_excel('ensemble_BMC.xlsx')"
   ]
  },
  {
   "cell_type": "code",
   "execution_count": 144,
   "metadata": {},
   "outputs": [
    {
     "data": {
      "image/png": "[encoded data removed]",
      "text/plain": [
       "<Figure size 1500x700 with 1 Axes>"
      ]
     },
     "metadata": {},
     "output_type": "display_data"
    }
   ],
   "source": [
    "plt.figure(figsize=(15, 7))\n",
    "\n",
    "results_df_28['date'] = pd.to_datetime(results_df_28['date'])\n",
    "\n",
    "grouped = results_df_28.groupby('date').agg({\n",
    "    'actual': 'sum',\n",
    "    'predicted': 'sum'\n",
    "}).reset_index()\n",
    "\n",
    "plt.plot(grouped['date'], grouped['actual'], label='Actual', color='blue')\n",
    "plt.plot(grouped['date'], grouped['predicted'], label='Predicted', color='red')\n",
    "\n",
    "plt.legend() \n",
    "plt.xlabel('Date') \n",
    "plt.ylabel('Sales')  \n",
    "plt.title('Actual vs Predicted Sales (All Products Combined)')\n",
    "plt.grid(True)\n",
    "plt.show()"
   ]
  }
 ],
 "metadata": {
  "kernelspec": {
   "display_name": "Python 3",
   "language": "python",
   "name": "python3"
  },
  "language_info": {
   "codemirror_mode": {
    "name": "ipython",
    "version": 3
   },
   "file_extension": ".py",
   "mimetype": "text/x-python",
   "name": "python",
   "nbconvert_exporter": "python",
   "pygments_lexer": "ipython3",
   "version": "3.11.4"
  },
  "orig_nbformat": 4
 },
 "nbformat": 4,
 "nbformat_minor": 2
}
